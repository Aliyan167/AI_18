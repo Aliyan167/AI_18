{
  "nbformat": 4,
  "nbformat_minor": 0,
  "metadata": {
    "colab": {
      "provenance": [],
      "authorship_tag": "ABX9TyPGjSZ3o29xXbYEGugDvirg",
      "include_colab_link": true
    },
    "kernelspec": {
      "name": "python3",
      "display_name": "Python 3"
    },
    "language_info": {
      "name": "python"
    }
  },
  "cells": [
    {
      "cell_type": "markdown",
      "metadata": {
        "id": "view-in-github",
        "colab_type": "text"
      },
      "source": [
        "<a href=\"https://colab.research.google.com/github/Aliyan167/AI_18/blob/main/lab_task.ipynb\" target=\"_parent\"><img src=\"https://colab.research.google.com/assets/colab-badge.svg\" alt=\"Open In Colab\"/></a>"
      ]
    },
    {
      "cell_type": "code",
      "execution_count": null,
      "metadata": {
        "colab": {
          "base_uri": "https://localhost:8080/"
        },
        "id": "LJ7ANSrkJajR",
        "outputId": "7f12d784-e19f-435b-937f-32ad5e4efd91"
      },
      "outputs": [
        {
          "output_type": "stream",
          "name": "stdout",
          "text": [
            "[0 1 2 3 4 5 6 7 8 9]\n"
          ]
        }
      ],
      "source": [
        "import numpy as np\n",
        "\n",
        "# Create a 1D array of numbers from 0 to 9\n",
        "array = np.arange(10)\n",
        "\n",
        "print(array)\n",
        "\n",
        "\n"
      ]
    },
    {
      "cell_type": "code",
      "source": [
        "import numpy as np\n",
        "\n",
        "# Create a 1D array of numbers from 1 to 9\n",
        "array_1d = np.arange(1, 10)\n",
        "\n",
        "# Reshape the 1D array into a 2D array with shape (3, 3)\n",
        "array_2d = array_1d.reshape(3, 3)\n",
        "\n",
        "print(array_2d)\n"
      ],
      "metadata": {
        "colab": {
          "base_uri": "https://localhost:8080/"
        },
        "id": "3yYBpFwRNGZv",
        "outputId": "06860863-6049-4804-a7a5-e9a91fbf828c"
      },
      "execution_count": null,
      "outputs": [
        {
          "output_type": "stream",
          "name": "stdout",
          "text": [
            "[[1 2 3]\n",
            " [4 5 6]\n",
            " [7 8 9]]\n"
          ]
        }
      ]
    },
    {
      "cell_type": "code",
      "source": [
        "import numpy as np\n",
        "\n",
        "# Create a 3D array of shape (2, 3, 4) filled with random integers from 1 to 100\n",
        "array_3d = np.random.randint(1, 101, size=(2, 3, 4))\n",
        "\n",
        "print(array_3d)"
      ],
      "metadata": {
        "colab": {
          "base_uri": "https://localhost:8080/"
        },
        "id": "A5lRjKtGNNG9",
        "outputId": "509c67f0-3223-4630-8410-bce22ffbfb34"
      },
      "execution_count": null,
      "outputs": [
        {
          "output_type": "stream",
          "name": "stdout",
          "text": [
            "[[[72 55 77 13]\n",
            "  [14 52 47 35]\n",
            "  [43 79 24 66]]\n",
            "\n",
            " [[13 51 72  2]\n",
            "  [58 58 36 26]\n",
            "  [59 71 69 18]]]\n"
          ]
        }
      ]
    },
    {
      "cell_type": "code",
      "source": [],
      "metadata": {
        "id": "j8zSXGWaNXUL"
      },
      "execution_count": null,
      "outputs": []
    }
  ]
}